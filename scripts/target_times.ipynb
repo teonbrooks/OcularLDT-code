{
 "cells": [
  {
   "cell_type": "code",
   "execution_count": 24,
   "metadata": {
    "collapsed": true
   },
   "outputs": [],
   "source": [
    "import pyeparse\n",
    "import os.path as op\n",
    "import numpy as np\n",
    "import pandas\n",
    "from scipy.stats import ttest_ind\n",
    "%matplotlib inline\n",
    "\n",
    "\n",
    "subject = 'A0149'\n",
    "path = '/Users/teon/Google Drive/E-MEG/data/%s/behavioral/' % subject\n",
    "raw_file = op.join(path, '%s_OLDT.edf' % subject)\n",
    "data_file = op.join(path, 'actual_TRIAL_DataSource_%s_OLDT_BLOCKTRIAL.dat' % subject)"
   ]
  },
  {
   "cell_type": "code",
   "execution_count": 25,
   "metadata": {
    "collapsed": false
   },
   "outputs": [],
   "source": [
    "data = np.loadtxt(data_file, dtype=str, delimiter='\\t')\n",
    "raw = pyeparse.RawEDF(raw_file)\n",
    "pat = '!V TRIAL_VAR TIME_TARGET'\n",
    "msgs = raw.find_events(pat, 1)[:,-1]\n",
    "times = np.array([int(x[(len(pat) + 1):]) for x in msgs], int)\n",
    "assert data.shape[0] == times.shape[0]\n",
    "\n",
    "# clean empty\n",
    "idx = np.where(times != -1)[0]\n",
    "data = data[idx]\n",
    "times = times[idx]\n",
    "\n",
    "# clean outliers\n",
    "idx = np.where(np.abs(times) < times.mean() + 3 * np.std(times))\n",
    "data = data[idx]\n",
    "times = times[idx]"
   ]
  },
  {
   "cell_type": "code",
   "execution_count": 26,
   "metadata": {
    "collapsed": false
   },
   "outputs": [],
   "source": [
    "triggers = data[:,10].astype(int)\n",
    "exp = np.array([(x & 2 ** 5) >> 5 for x in triggers], dtype=bool)\n",
    "triggers = triggers[exp]\n",
    "\n",
    "relatedness = np.array([(x & 2 ** 4) >> 4 for x in triggers], dtype=bool)\n",
    "nonword_pos = np.array([(x & (2 ** 3 + 2 ** 2)) >> 2 for x in triggers])\n",
    "current_pos = np.array([(x & (2 ** 1 + 2 ** 0)) >> 0 for x in triggers])\n",
    "\n",
    "idx = np.where(nonword_pos - current_pos != 0)[0]\n",
    "idy = np.where(current_pos < nonword_pos)[0]\n",
    "idy2 = np.where(nonword_pos == 0)[0]\n",
    "idy = np.unique(np.hstack((idy, idy2)))\n",
    "\n",
    "relatedness_idx = np.where(relatedness)[0]\n",
    "words_idx = np.intersect1d(idx, idy)\n",
    "nonwords_idx = np.where(nonword_pos - current_pos == 0)[0]\n",
    "primes_idx = np.intersect1d(np.where(current_pos == 1)[0], words_idx)\n",
    "targets_idx = np.intersect1d(np.where(current_pos == 2)[0], words_idx)\n"
   ]
  },
  {
   "cell_type": "code",
   "execution_count": 27,
   "metadata": {
    "collapsed": false
   },
   "outputs": [],
   "source": [
    "# semantic priming condition\n",
    "primed_idx = np.intersect1d(relatedness_idx, targets_idx)\n",
    "unprimed_idx = np.setdiff1d(targets_idx, primed_idx)\n",
    "\n",
    "primed = times[primed_idx]\n",
    "unprimed = times[unprimed_idx]\n",
    "\n",
    "idx = np.min([primed.size, unprimed.size])\n",
    "df = pandas.DataFrame(np.array([unprimed[:idx], primed[:idx]]).T, columns = ['unprimed', 'primed'])"
   ]
  },
  {
   "cell_type": "code",
   "execution_count": 28,
   "metadata": {
    "collapsed": false
   },
   "outputs": [
    {
     "data": {
      "text/plain": [
       "<matplotlib.axes._subplots.AxesSubplot at 0x10396c5d0>"
      ]
     },
     "execution_count": 28,
     "metadata": {},
     "output_type": "execute_result"
    },
    {
     "data": {
      "image/png": "[encoded data removed]",
      "text/plain": [
       "<matplotlib.figure.Figure at 0x1038c6b50>"
      ]
     },
     "metadata": {},
     "output_type": "display_data"
    }
   ],
   "source": [
    "df.plot(kind='hist', stacked=True, bins=30)"
   ]
  },
  {
   "cell_type": "code",
   "execution_count": 29,
   "metadata": {
    "collapsed": false
   },
   "outputs": [
    {
     "data": {
      "text/plain": [
       "(-0.8774436361683442, 0.38253134026489366)"
      ]
     },
     "execution_count": 29,
     "metadata": {},
     "output_type": "execute_result"
    }
   ],
   "source": [
    "ttest_ind(df['unprimed'], df['primed'])"
   ]
  },
  {
   "cell_type": "code",
   "execution_count": 30,
   "metadata": {
    "collapsed": false
   },
   "outputs": [
    {
     "data": {
      "text/plain": [
       "(368.0, 40.504428099310005)"
      ]
     },
     "execution_count": 30,
     "metadata": {},
     "output_type": "execute_result"
    }
   ],
   "source": [
    "df['unprimed'].mean(), df['unprimed'].std()"
   ]
  },
  {
   "cell_type": "code",
   "execution_count": 31,
   "metadata": {
    "collapsed": false
   },
   "outputs": [
    {
     "data": {
      "text/plain": [
       "(375.51063829787233, 42.461682133232927)"
      ]
     },
     "execution_count": 31,
     "metadata": {},
     "output_type": "execute_result"
    }
   ],
   "source": [
    "df['primed'].mean(), df['primed'].std()"
   ]
  },
  {
   "cell_type": "code",
   "execution_count": 32,
   "metadata": {
    "collapsed": false
   },
   "outputs": [
    {
     "data": {
      "text/plain": [
       "-7.5106382978723332"
      ]
     },
     "execution_count": 32,
     "metadata": {},
     "output_type": "execute_result"
    }
   ],
   "source": [
    "df['unprimed'].mean() - df['primed'].mean()"
   ]
  },
  {
   "cell_type": "code",
   "execution_count": 33,
   "metadata": {
    "collapsed": false
   },
   "outputs": [
    {
     "data": {
      "text/plain": [
       "(47, 2)"
      ]
     },
     "execution_count": 33,
     "metadata": {},
     "output_type": "execute_result"
    }
   ],
   "source": [
    "df.shape"
   ]
  },
  {
   "cell_type": "code",
   "execution_count": 34,
   "metadata": {
    "collapsed": false
   },
   "outputs": [
    {
     "data": {
      "text/plain": [
       "array([34, 34, 46, 34, 34, 34, 34, 46, 34, 34, 34, 34, 34, 34, 34, 34, 34,\n",
       "       34, 46, 34, 34, 34, 34, 34, 34, 34, 34, 34, 34, 46, 34, 34, 34, 34,\n",
       "       34, 34, 46, 46, 34, 34, 46, 34, 34, 34, 34, 34, 34])"
      ]
     },
     "execution_count": 34,
     "metadata": {},
     "output_type": "execute_result"
    }
   ],
   "source": [
    "triggers[unprimed_idx]"
   ]
  },
  {
   "cell_type": "code",
   "execution_count": null,
   "metadata": {
    "collapsed": true
   },
   "outputs": [],
   "source": []
  }
 ],
 "metadata": {
  "kernelspec": {
   "display_name": "Python 2",
   "language": "python",
   "name": "python2"
  },
  "language_info": {
   "codemirror_mode": {
    "name": "ipython",
    "version": 2
   },
   "file_extension": ".py",
   "mimetype": "text/x-python",
   "name": "python",
   "nbconvert_exporter": "python",
   "pygments_lexer": "ipython2",
   "version": "2.7.9"
  }
 },
 "nbformat": 4,
 "nbformat_minor": 0
}
